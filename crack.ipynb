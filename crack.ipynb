{
 "cells": [
  {
   "cell_type": "markdown",
   "metadata": {},
   "source": [
    "## This project is aimed to predict the Kic and CTOD of concretes\n",
    "\n",
    "### The variables of the dataset are\n",
    "* W(m): Depth of the beam\n",
    "* S(m): Span length \n",
    "* B(m): Breadth of the beam\n",
    "* E(GPa): Young Modulus\n",
    "* f'c(MPa): Compressive strength\n",
    "* a0(m): Notch depth\n",
    "* ac(m): Final crack length\n",
    "* ?c:  \n",
    "* ?: \n",
    "* F(?c): \n",
    "* V(?c): \n",
    "* N(?c,?): \n",
    "* Pmax(N)Avg: Peak Load Average\n",
    "* KsIC(MPa): stress intensity Factor\n",
    "* CTODC(mm): Crack tip opening Displacement\n",
    "\n"
   ]
  },
  {
   "cell_type": "code",
   "execution_count": 1,
   "metadata": {},
   "outputs": [],
   "source": [
    "#import libraries\n",
    "\n",
    "import numpy as np\n",
    "import pandas as pd\n",
    "import matplotlib.pyplot as plt\n",
    "import seaborn as sns\n",
    "import pickle\n",
    "\n"
   ]
  },
  {
   "cell_type": "code",
   "execution_count": 79,
   "metadata": {},
   "outputs": [
    {
     "data": {
      "text/html": [
       "<div>\n",
       "<style scoped>\n",
       "    .dataframe tbody tr th:only-of-type {\n",
       "        vertical-align: middle;\n",
       "    }\n",
       "\n",
       "    .dataframe tbody tr th {\n",
       "        vertical-align: top;\n",
       "    }\n",
       "\n",
       "    .dataframe thead th {\n",
       "        text-align: right;\n",
       "    }\n",
       "</style>\n",
       "<table border=\"1\" class=\"dataframe\">\n",
       "  <thead>\n",
       "    <tr style=\"text-align: right;\">\n",
       "      <th></th>\n",
       "      <th>W(m)</th>\n",
       "      <th>S(m)</th>\n",
       "      <th>B(m)</th>\n",
       "      <th>E(GPa)</th>\n",
       "      <th>f'c(MPa)</th>\n",
       "      <th>a0(m)</th>\n",
       "      <th>ac(m)</th>\n",
       "      <th>?c</th>\n",
       "      <th>?</th>\n",
       "      <th>F(?c)</th>\n",
       "      <th>V(?c)</th>\n",
       "      <th>N(?c, ?)</th>\n",
       "      <th>Pmax (N)Avg</th>\n",
       "      <th>KsIC (MPa)</th>\n",
       "      <th>CTODC(mm)</th>\n",
       "    </tr>\n",
       "  </thead>\n",
       "  <tbody>\n",
       "    <tr>\n",
       "      <th>0</th>\n",
       "      <td>0.08</td>\n",
       "      <td>0.2</td>\n",
       "      <td>0.05</td>\n",
       "      <td>35.5</td>\n",
       "      <td>67.5</td>\n",
       "      <td>0.0021</td>\n",
       "      <td>0.0026</td>\n",
       "      <td>0.0325</td>\n",
       "      <td>0.7908</td>\n",
       "      <td>1.0723</td>\n",
       "      <td>1.3950</td>\n",
       "      <td>0.4652</td>\n",
       "      <td>7350.0</td>\n",
       "      <td>0.6678</td>\n",
       "      <td>0.0013</td>\n",
       "    </tr>\n",
       "    <tr>\n",
       "      <th>1</th>\n",
       "      <td>0.08</td>\n",
       "      <td>0.2</td>\n",
       "      <td>0.05</td>\n",
       "      <td>35.5</td>\n",
       "      <td>67.5</td>\n",
       "      <td>0.0021</td>\n",
       "      <td>0.0028</td>\n",
       "      <td>0.0345</td>\n",
       "      <td>0.7460</td>\n",
       "      <td>1.0697</td>\n",
       "      <td>1.3939</td>\n",
       "      <td>0.5117</td>\n",
       "      <td>7350.0</td>\n",
       "      <td>0.6859</td>\n",
       "      <td>0.0015</td>\n",
       "    </tr>\n",
       "    <tr>\n",
       "      <th>2</th>\n",
       "      <td>0.08</td>\n",
       "      <td>0.2</td>\n",
       "      <td>0.05</td>\n",
       "      <td>35.5</td>\n",
       "      <td>67.5</td>\n",
       "      <td>0.0021</td>\n",
       "      <td>0.0029</td>\n",
       "      <td>0.0364</td>\n",
       "      <td>0.7060</td>\n",
       "      <td>1.0672</td>\n",
       "      <td>1.3928</td>\n",
       "      <td>0.5496</td>\n",
       "      <td>7350.0</td>\n",
       "      <td>0.7034</td>\n",
       "      <td>0.0017</td>\n",
       "    </tr>\n",
       "    <tr>\n",
       "      <th>3</th>\n",
       "      <td>0.08</td>\n",
       "      <td>0.2</td>\n",
       "      <td>0.05</td>\n",
       "      <td>35.5</td>\n",
       "      <td>67.5</td>\n",
       "      <td>0.0021</td>\n",
       "      <td>0.0031</td>\n",
       "      <td>0.0384</td>\n",
       "      <td>0.6701</td>\n",
       "      <td>1.0647</td>\n",
       "      <td>1.3918</td>\n",
       "      <td>0.5814</td>\n",
       "      <td>7350.0</td>\n",
       "      <td>0.7203</td>\n",
       "      <td>0.0019</td>\n",
       "    </tr>\n",
       "    <tr>\n",
       "      <th>4</th>\n",
       "      <td>0.08</td>\n",
       "      <td>0.2</td>\n",
       "      <td>0.05</td>\n",
       "      <td>35.5</td>\n",
       "      <td>67.5</td>\n",
       "      <td>0.0021</td>\n",
       "      <td>0.0032</td>\n",
       "      <td>0.0403</td>\n",
       "      <td>0.6377</td>\n",
       "      <td>1.0623</td>\n",
       "      <td>1.3909</td>\n",
       "      <td>0.6085</td>\n",
       "      <td>7350.0</td>\n",
       "      <td>0.7366</td>\n",
       "      <td>0.0021</td>\n",
       "    </tr>\n",
       "    <tr>\n",
       "      <th>5</th>\n",
       "      <td>0.08</td>\n",
       "      <td>0.2</td>\n",
       "      <td>0.05</td>\n",
       "      <td>35.5</td>\n",
       "      <td>67.5</td>\n",
       "      <td>0.0021</td>\n",
       "      <td>0.0034</td>\n",
       "      <td>0.0423</td>\n",
       "      <td>0.6083</td>\n",
       "      <td>1.0598</td>\n",
       "      <td>1.3899</td>\n",
       "      <td>0.6320</td>\n",
       "      <td>7350.0</td>\n",
       "      <td>0.7525</td>\n",
       "      <td>0.0023</td>\n",
       "    </tr>\n",
       "    <tr>\n",
       "      <th>6</th>\n",
       "      <td>0.08</td>\n",
       "      <td>0.2</td>\n",
       "      <td>0.05</td>\n",
       "      <td>35.5</td>\n",
       "      <td>67.5</td>\n",
       "      <td>0.0021</td>\n",
       "      <td>0.0035</td>\n",
       "      <td>0.0442</td>\n",
       "      <td>0.5814</td>\n",
       "      <td>1.0575</td>\n",
       "      <td>1.3891</td>\n",
       "      <td>0.6526</td>\n",
       "      <td>7350.0</td>\n",
       "      <td>0.7680</td>\n",
       "      <td>0.0025</td>\n",
       "    </tr>\n",
       "    <tr>\n",
       "      <th>7</th>\n",
       "      <td>0.08</td>\n",
       "      <td>0.2</td>\n",
       "      <td>0.05</td>\n",
       "      <td>35.5</td>\n",
       "      <td>67.5</td>\n",
       "      <td>0.0021</td>\n",
       "      <td>0.0037</td>\n",
       "      <td>0.0462</td>\n",
       "      <td>0.5569</td>\n",
       "      <td>1.0552</td>\n",
       "      <td>1.3882</td>\n",
       "      <td>0.6708</td>\n",
       "      <td>7350.0</td>\n",
       "      <td>0.7830</td>\n",
       "      <td>0.0027</td>\n",
       "    </tr>\n",
       "    <tr>\n",
       "      <th>8</th>\n",
       "      <td>0.08</td>\n",
       "      <td>0.2</td>\n",
       "      <td>0.05</td>\n",
       "      <td>35.5</td>\n",
       "      <td>67.5</td>\n",
       "      <td>0.0021</td>\n",
       "      <td>0.0038</td>\n",
       "      <td>0.0481</td>\n",
       "      <td>0.5343</td>\n",
       "      <td>1.0529</td>\n",
       "      <td>1.3874</td>\n",
       "      <td>0.6871</td>\n",
       "      <td>7350.0</td>\n",
       "      <td>0.7977</td>\n",
       "      <td>0.0028</td>\n",
       "    </tr>\n",
       "    <tr>\n",
       "      <th>9</th>\n",
       "      <td>0.08</td>\n",
       "      <td>0.2</td>\n",
       "      <td>0.05</td>\n",
       "      <td>35.5</td>\n",
       "      <td>67.5</td>\n",
       "      <td>0.0021</td>\n",
       "      <td>0.0040</td>\n",
       "      <td>0.0501</td>\n",
       "      <td>0.5135</td>\n",
       "      <td>1.0507</td>\n",
       "      <td>1.3867</td>\n",
       "      <td>0.7017</td>\n",
       "      <td>7350.0</td>\n",
       "      <td>0.8120</td>\n",
       "      <td>0.0030</td>\n",
       "    </tr>\n",
       "  </tbody>\n",
       "</table>\n",
       "</div>"
      ],
      "text/plain": [
       "   W(m)  S(m)  B(m)  E(GPa)  f'c(MPa)   a0(m)   ac(m)      ?c       ?   F(?c)  \\\n",
       "0  0.08   0.2  0.05    35.5      67.5  0.0021  0.0026  0.0325  0.7908  1.0723   \n",
       "1  0.08   0.2  0.05    35.5      67.5  0.0021  0.0028  0.0345  0.7460  1.0697   \n",
       "2  0.08   0.2  0.05    35.5      67.5  0.0021  0.0029  0.0364  0.7060  1.0672   \n",
       "3  0.08   0.2  0.05    35.5      67.5  0.0021  0.0031  0.0384  0.6701  1.0647   \n",
       "4  0.08   0.2  0.05    35.5      67.5  0.0021  0.0032  0.0403  0.6377  1.0623   \n",
       "5  0.08   0.2  0.05    35.5      67.5  0.0021  0.0034  0.0423  0.6083  1.0598   \n",
       "6  0.08   0.2  0.05    35.5      67.5  0.0021  0.0035  0.0442  0.5814  1.0575   \n",
       "7  0.08   0.2  0.05    35.5      67.5  0.0021  0.0037  0.0462  0.5569  1.0552   \n",
       "8  0.08   0.2  0.05    35.5      67.5  0.0021  0.0038  0.0481  0.5343  1.0529   \n",
       "9  0.08   0.2  0.05    35.5      67.5  0.0021  0.0040  0.0501  0.5135  1.0507   \n",
       "\n",
       "    V(?c)  N(?c, ?)  Pmax (N)Avg  KsIC (MPa)  CTODC(mm)  \n",
       "0  1.3950    0.4652       7350.0      0.6678     0.0013  \n",
       "1  1.3939    0.5117       7350.0      0.6859     0.0015  \n",
       "2  1.3928    0.5496       7350.0      0.7034     0.0017  \n",
       "3  1.3918    0.5814       7350.0      0.7203     0.0019  \n",
       "4  1.3909    0.6085       7350.0      0.7366     0.0021  \n",
       "5  1.3899    0.6320       7350.0      0.7525     0.0023  \n",
       "6  1.3891    0.6526       7350.0      0.7680     0.0025  \n",
       "7  1.3882    0.6708       7350.0      0.7830     0.0027  \n",
       "8  1.3874    0.6871       7350.0      0.7977     0.0028  \n",
       "9  1.3867    0.7017       7350.0      0.8120     0.0030  "
      ]
     },
     "execution_count": 79,
     "metadata": {},
     "output_type": "execute_result"
    }
   ],
   "source": [
    "%matplotlib inline\n",
    "\n",
    "df= pd.read_csv(\"model data1.csv\")\n",
    "\n",
    "df.head(10)\n"
   ]
  },
  {
   "cell_type": "code",
   "execution_count": 3,
   "metadata": {},
   "outputs": [
    {
     "data": {
      "text/plain": [
       "(312, 15)"
      ]
     },
     "execution_count": 3,
     "metadata": {},
     "output_type": "execute_result"
    }
   ],
   "source": [
    "df.shape"
   ]
  },
  {
   "cell_type": "code",
   "execution_count": 80,
   "metadata": {},
   "outputs": [
    {
     "data": {
      "text/plain": [
       "(312, 7)"
      ]
     },
     "execution_count": 80,
     "metadata": {},
     "output_type": "execute_result"
    }
   ],
   "source": [
    "# remove variables not needed because some have missing values\n",
    "column_to_drop = ['W(m)','S(m)', 'B(m)','?c','?','F(?c)','V(?c)', 'N(?c, ?)']\n",
    "\n",
    "df.drop(column_to_drop , axis=1, inplace=True)\n",
    "\n",
    "\n",
    "df.shape"
   ]
  },
  {
   "cell_type": "code",
   "execution_count": 5,
   "metadata": {},
   "outputs": [
    {
     "data": {
      "text/html": [
       "<div>\n",
       "<style scoped>\n",
       "    .dataframe tbody tr th:only-of-type {\n",
       "        vertical-align: middle;\n",
       "    }\n",
       "\n",
       "    .dataframe tbody tr th {\n",
       "        vertical-align: top;\n",
       "    }\n",
       "\n",
       "    .dataframe thead th {\n",
       "        text-align: right;\n",
       "    }\n",
       "</style>\n",
       "<table border=\"1\" class=\"dataframe\">\n",
       "  <thead>\n",
       "    <tr style=\"text-align: right;\">\n",
       "      <th></th>\n",
       "      <th>E(GPa)</th>\n",
       "      <th>f'c(MPa)</th>\n",
       "      <th>a0(m)</th>\n",
       "      <th>ac(m)</th>\n",
       "      <th>Pmax (N)Avg</th>\n",
       "      <th>KsIC (MPa)</th>\n",
       "      <th>CTODC(mm)</th>\n",
       "    </tr>\n",
       "  </thead>\n",
       "  <tbody>\n",
       "    <tr>\n",
       "      <th>count</th>\n",
       "      <td>312.000000</td>\n",
       "      <td>312.000000</td>\n",
       "      <td>312.000000</td>\n",
       "      <td>312.000000</td>\n",
       "      <td>312.000000</td>\n",
       "      <td>312.000000</td>\n",
       "      <td>312.000000</td>\n",
       "    </tr>\n",
       "    <tr>\n",
       "      <th>mean</th>\n",
       "      <td>37.930849</td>\n",
       "      <td>69.782468</td>\n",
       "      <td>0.008546</td>\n",
       "      <td>0.034202</td>\n",
       "      <td>5726.862091</td>\n",
       "      <td>2.048863</td>\n",
       "      <td>0.048600</td>\n",
       "    </tr>\n",
       "    <tr>\n",
       "      <th>std</th>\n",
       "      <td>5.103831</td>\n",
       "      <td>17.883681</td>\n",
       "      <td>0.008947</td>\n",
       "      <td>0.017344</td>\n",
       "      <td>3724.521522</td>\n",
       "      <td>3.095156</td>\n",
       "      <td>0.098225</td>\n",
       "    </tr>\n",
       "    <tr>\n",
       "      <th>min</th>\n",
       "      <td>27.800000</td>\n",
       "      <td>42.200000</td>\n",
       "      <td>0.002100</td>\n",
       "      <td>0.002600</td>\n",
       "      <td>583.216700</td>\n",
       "      <td>0.009000</td>\n",
       "      <td>0.001100</td>\n",
       "    </tr>\n",
       "    <tr>\n",
       "      <th>25%</th>\n",
       "      <td>35.500000</td>\n",
       "      <td>65.100000</td>\n",
       "      <td>0.004100</td>\n",
       "      <td>0.020850</td>\n",
       "      <td>1880.171900</td>\n",
       "      <td>0.698300</td>\n",
       "      <td>0.009075</td>\n",
       "    </tr>\n",
       "    <tr>\n",
       "      <th>50%</th>\n",
       "      <td>35.500000</td>\n",
       "      <td>67.500000</td>\n",
       "      <td>0.005000</td>\n",
       "      <td>0.035100</td>\n",
       "      <td>7350.000000</td>\n",
       "      <td>0.960050</td>\n",
       "      <td>0.015800</td>\n",
       "    </tr>\n",
       "    <tr>\n",
       "      <th>75%</th>\n",
       "      <td>42.987000</td>\n",
       "      <td>67.500000</td>\n",
       "      <td>0.008400</td>\n",
       "      <td>0.048150</td>\n",
       "      <td>7350.000000</td>\n",
       "      <td>1.235925</td>\n",
       "      <td>0.029775</td>\n",
       "    </tr>\n",
       "    <tr>\n",
       "      <th>max</th>\n",
       "      <td>45.200000</td>\n",
       "      <td>122.520000</td>\n",
       "      <td>0.060000</td>\n",
       "      <td>0.068300</td>\n",
       "      <td>19490.000000</td>\n",
       "      <td>13.984000</td>\n",
       "      <td>0.581000</td>\n",
       "    </tr>\n",
       "  </tbody>\n",
       "</table>\n",
       "</div>"
      ],
      "text/plain": [
       "           E(GPa)    f'c(MPa)       a0(m)       ac(m)   Pmax (N)Avg  \\\n",
       "count  312.000000  312.000000  312.000000  312.000000    312.000000   \n",
       "mean    37.930849   69.782468    0.008546    0.034202   5726.862091   \n",
       "std      5.103831   17.883681    0.008947    0.017344   3724.521522   \n",
       "min     27.800000   42.200000    0.002100    0.002600    583.216700   \n",
       "25%     35.500000   65.100000    0.004100    0.020850   1880.171900   \n",
       "50%     35.500000   67.500000    0.005000    0.035100   7350.000000   \n",
       "75%     42.987000   67.500000    0.008400    0.048150   7350.000000   \n",
       "max     45.200000  122.520000    0.060000    0.068300  19490.000000   \n",
       "\n",
       "       KsIC (MPa)   CTODC(mm)  \n",
       "count  312.000000  312.000000  \n",
       "mean     2.048863    0.048600  \n",
       "std      3.095156    0.098225  \n",
       "min      0.009000    0.001100  \n",
       "25%      0.698300    0.009075  \n",
       "50%      0.960050    0.015800  \n",
       "75%      1.235925    0.029775  \n",
       "max     13.984000    0.581000  "
      ]
     },
     "execution_count": 5,
     "metadata": {},
     "output_type": "execute_result"
    }
   ],
   "source": [
    "df.describe()"
   ]
  },
  {
   "cell_type": "markdown",
   "metadata": {},
   "source": [
    "Check for outliers\n"
   ]
  },
  {
   "cell_type": "code",
   "execution_count": 6,
   "metadata": {},
   "outputs": [
    {
     "data": {
      "text/plain": [
       "{'whiskers': [<matplotlib.lines.Line2D at 0x1fffd69c580>,\n",
       "  <matplotlib.lines.Line2D at 0x1fffd69c850>],\n",
       " 'caps': [<matplotlib.lines.Line2D at 0x1fffd69cb20>,\n",
       "  <matplotlib.lines.Line2D at 0x1fffd69cdf0>],\n",
       " 'boxes': [<matplotlib.lines.Line2D at 0x1fffd69c2b0>],\n",
       " 'medians': [<matplotlib.lines.Line2D at 0x1fffd69d0c0>],\n",
       " 'fliers': [<matplotlib.lines.Line2D at 0x1fffd69d390>],\n",
       " 'means': []}"
      ]
     },
     "execution_count": 6,
     "metadata": {},
     "output_type": "execute_result"
    },
    {
     "data": {
      "image/png": "[encoded data removed]",
      "text/plain": [
       "<Figure size 432x288 with 1 Axes>"
      ]
     },
     "metadata": {
      "needs_background": "light"
     },
     "output_type": "display_data"
    }
   ],
   "source": [
    "plt.boxplot(df['KsIC (MPa)'])"
   ]
  },
  {
   "cell_type": "code",
   "execution_count": 7,
   "metadata": {},
   "outputs": [
    {
     "data": {
      "text/plain": [
       "{'whiskers': [<matplotlib.lines.Line2D at 0x1ffff76be50>,\n",
       "  <matplotlib.lines.Line2D at 0x1ffff798160>],\n",
       " 'caps': [<matplotlib.lines.Line2D at 0x1ffff798430>,\n",
       "  <matplotlib.lines.Line2D at 0x1ffff798700>],\n",
       " 'boxes': [<matplotlib.lines.Line2D at 0x1ffff76bb80>],\n",
       " 'medians': [<matplotlib.lines.Line2D at 0x1ffff7989d0>],\n",
       " 'fliers': [<matplotlib.lines.Line2D at 0x1ffff798ca0>],\n",
       " 'means': []}"
      ]
     },
     "execution_count": 7,
     "metadata": {},
     "output_type": "execute_result"
    },
    {
     "data": {
      "image/png": "[encoded data removed]",
      "text/plain": [
       "<Figure size 432x288 with 1 Axes>"
      ]
     },
     "metadata": {
      "needs_background": "light"
     },
     "output_type": "display_data"
    }
   ],
   "source": [
    "plt.boxplot(df['KsIC (MPa)'])\n"
   ]
  },
  {
   "cell_type": "code",
   "execution_count": 51,
   "metadata": {},
   "outputs": [],
   "source": [
    "df = df[df['KsIC (MPa)'] <= 4]"
   ]
  },
  {
   "cell_type": "markdown",
   "metadata": {},
   "source": [
    "### Explanatory Descriptive Analysis"
   ]
  },
  {
   "cell_type": "code",
   "execution_count": 81,
   "metadata": {},
   "outputs": [
    {
     "data": {
      "text/html": [
       "<div>\n",
       "<style scoped>\n",
       "    .dataframe tbody tr th:only-of-type {\n",
       "        vertical-align: middle;\n",
       "    }\n",
       "\n",
       "    .dataframe tbody tr th {\n",
       "        vertical-align: top;\n",
       "    }\n",
       "\n",
       "    .dataframe thead th {\n",
       "        text-align: right;\n",
       "    }\n",
       "</style>\n",
       "<table border=\"1\" class=\"dataframe\">\n",
       "  <thead>\n",
       "    <tr style=\"text-align: right;\">\n",
       "      <th></th>\n",
       "      <th>E(GPa)</th>\n",
       "      <th>f'c(MPa)</th>\n",
       "      <th>Pmax (N)Avg</th>\n",
       "      <th>KsIC (MPa)</th>\n",
       "      <th>CTODC(mm)</th>\n",
       "      <th>final_crack</th>\n",
       "    </tr>\n",
       "  </thead>\n",
       "  <tbody>\n",
       "    <tr>\n",
       "      <th>161</th>\n",
       "      <td>45.20</td>\n",
       "      <td>65.10</td>\n",
       "      <td>1839.4219</td>\n",
       "      <td>0.5181</td>\n",
       "      <td>0.0097</td>\n",
       "      <td>0.0391</td>\n",
       "    </tr>\n",
       "    <tr>\n",
       "      <th>105</th>\n",
       "      <td>35.50</td>\n",
       "      <td>67.50</td>\n",
       "      <td>7350.0000</td>\n",
       "      <td>1.3490</td>\n",
       "      <td>0.0280</td>\n",
       "      <td>0.0417</td>\n",
       "    </tr>\n",
       "    <tr>\n",
       "      <th>233</th>\n",
       "      <td>27.80</td>\n",
       "      <td>42.20</td>\n",
       "      <td>583.2167</td>\n",
       "      <td>0.3983</td>\n",
       "      <td>0.0038</td>\n",
       "      <td>0.0056</td>\n",
       "    </tr>\n",
       "    <tr>\n",
       "      <th>226</th>\n",
       "      <td>27.80</td>\n",
       "      <td>42.20</td>\n",
       "      <td>583.2167</td>\n",
       "      <td>0.3157</td>\n",
       "      <td>0.0012</td>\n",
       "      <td>0.0011</td>\n",
       "    </tr>\n",
       "    <tr>\n",
       "      <th>56</th>\n",
       "      <td>35.50</td>\n",
       "      <td>67.50</td>\n",
       "      <td>7350.0000</td>\n",
       "      <td>0.8734</td>\n",
       "      <td>0.0100</td>\n",
       "      <td>0.0166</td>\n",
       "    </tr>\n",
       "    <tr>\n",
       "      <th>25</th>\n",
       "      <td>35.50</td>\n",
       "      <td>67.50</td>\n",
       "      <td>7350.0000</td>\n",
       "      <td>0.4595</td>\n",
       "      <td>0.0011</td>\n",
       "      <td>0.0008</td>\n",
       "    </tr>\n",
       "    <tr>\n",
       "      <th>152</th>\n",
       "      <td>45.20</td>\n",
       "      <td>65.10</td>\n",
       "      <td>1839.4219</td>\n",
       "      <td>0.4761</td>\n",
       "      <td>0.0082</td>\n",
       "      <td>0.0362</td>\n",
       "    </tr>\n",
       "    <tr>\n",
       "      <th>265</th>\n",
       "      <td>35.78</td>\n",
       "      <td>57.14</td>\n",
       "      <td>6990.0000</td>\n",
       "      <td>1.4560</td>\n",
       "      <td>0.0980</td>\n",
       "      <td>0.0024</td>\n",
       "    </tr>\n",
       "    <tr>\n",
       "      <th>230</th>\n",
       "      <td>27.80</td>\n",
       "      <td>42.20</td>\n",
       "      <td>583.2167</td>\n",
       "      <td>0.3598</td>\n",
       "      <td>0.0027</td>\n",
       "      <td>0.0037</td>\n",
       "    </tr>\n",
       "    <tr>\n",
       "      <th>216</th>\n",
       "      <td>45.20</td>\n",
       "      <td>65.10</td>\n",
       "      <td>1894.4219</td>\n",
       "      <td>0.9850</td>\n",
       "      <td>0.0290</td>\n",
       "      <td>0.0572</td>\n",
       "    </tr>\n",
       "  </tbody>\n",
       "</table>\n",
       "</div>"
      ],
      "text/plain": [
       "     E(GPa)  f'c(MPa)  Pmax (N)Avg  KsIC (MPa)  CTODC(mm)  final_crack\n",
       "161   45.20     65.10    1839.4219      0.5181     0.0097       0.0391\n",
       "105   35.50     67.50    7350.0000      1.3490     0.0280       0.0417\n",
       "233   27.80     42.20     583.2167      0.3983     0.0038       0.0056\n",
       "226   27.80     42.20     583.2167      0.3157     0.0012       0.0011\n",
       "56    35.50     67.50    7350.0000      0.8734     0.0100       0.0166\n",
       "25    35.50     67.50    7350.0000      0.4595     0.0011       0.0008\n",
       "152   45.20     65.10    1839.4219      0.4761     0.0082       0.0362\n",
       "265   35.78     57.14    6990.0000      1.4560     0.0980       0.0024\n",
       "230   27.80     42.20     583.2167      0.3598     0.0027       0.0037\n",
       "216   45.20     65.10    1894.4219      0.9850     0.0290       0.0572"
      ]
     },
     "execution_count": 81,
     "metadata": {},
     "output_type": "execute_result"
    }
   ],
   "source": [
    "df['final_crack'] = (df['ac(m)']-df['a0(m)'])\n",
    "df.drop(['a0(m)', 'ac(m)'], axis= 1, inplace= True)\n",
    "\n",
    "\n",
    "\n",
    "df.sample(10)\n"
   ]
  },
  {
   "cell_type": "code",
   "execution_count": 9,
   "metadata": {},
   "outputs": [
    {
     "name": "stderr",
     "output_type": "stream",
     "text": [
      "c:\\Users\\POPOOLA KAYODE\\AppData\\Local\\Programs\\Python\\Python310\\lib\\site-packages\\seaborn\\distributions.py:2619: FutureWarning: `distplot` is a deprecated function and will be removed in a future version. Please adapt your code to use either `displot` (a figure-level function with similar flexibility) or `histplot` (an axes-level function for histograms).\n",
      "  warnings.warn(msg, FutureWarning)\n"
     ]
    },
    {
     "data": {
      "text/plain": [
       "<AxesSubplot:xlabel='KsIC (MPa)', ylabel='Density'>"
      ]
     },
     "execution_count": 9,
     "metadata": {},
     "output_type": "execute_result"
    },
    {
     "data": {
      "image/png": "[encoded data removed]",
      "text/plain": [
       "<Figure size 720x360 with 1 Axes>"
      ]
     },
     "metadata": {},
     "output_type": "display_data"
    }
   ],
   "source": [
    "sns.set(font_scale=1.0)\n",
    "\n",
    "fig, ax = plt.subplots(figsize=(10, 5))\n",
    "\n",
    "sns.distplot(df['KsIC (MPa)'], color = 'violet')\n"
   ]
  },
  {
   "cell_type": "code",
   "execution_count": 10,
   "metadata": {},
   "outputs": [
    {
     "name": "stderr",
     "output_type": "stream",
     "text": [
      "c:\\Users\\POPOOLA KAYODE\\AppData\\Local\\Programs\\Python\\Python310\\lib\\site-packages\\seaborn\\distributions.py:2619: FutureWarning: `distplot` is a deprecated function and will be removed in a future version. Please adapt your code to use either `displot` (a figure-level function with similar flexibility) or `histplot` (an axes-level function for histograms).\n",
      "  warnings.warn(msg, FutureWarning)\n"
     ]
    },
    {
     "data": {
      "text/plain": [
       "<AxesSubplot:xlabel='CTODC(mm)', ylabel='Density'>"
      ]
     },
     "execution_count": 10,
     "metadata": {},
     "output_type": "execute_result"
    },
    {
     "data": {
      "image/png": "[encoded data removed]",
      "text/plain": [
       "<Figure size 720x360 with 1 Axes>"
      ]
     },
     "metadata": {},
     "output_type": "display_data"
    }
   ],
   "source": [
    "sns.set(font_scale=1.0)\n",
    "\n",
    "fig, ax = plt.subplots(figsize=(10, 5))\n",
    "\n",
    "sns.distplot(df['CTODC(mm)'])"
   ]
  },
  {
   "cell_type": "code",
   "execution_count": 11,
   "metadata": {},
   "outputs": [
    {
     "name": "stderr",
     "output_type": "stream",
     "text": [
      "c:\\Users\\POPOOLA KAYODE\\AppData\\Local\\Programs\\Python\\Python310\\lib\\site-packages\\seaborn\\distributions.py:2619: FutureWarning: `distplot` is a deprecated function and will be removed in a future version. Please adapt your code to use either `displot` (a figure-level function with similar flexibility) or `histplot` (an axes-level function for histograms).\n",
      "  warnings.warn(msg, FutureWarning)\n"
     ]
    },
    {
     "data": {
      "text/plain": [
       "<AxesSubplot:xlabel='final_crack', ylabel='Density'>"
      ]
     },
     "execution_count": 11,
     "metadata": {},
     "output_type": "execute_result"
    },
    {
     "data": {
      "image/png": "[encoded data removed]",
      "text/plain": [
       "<Figure size 720x360 with 1 Axes>"
      ]
     },
     "metadata": {},
     "output_type": "display_data"
    }
   ],
   "source": [
    "sns.set(font_scale=1.0)\n",
    "\n",
    "fig = plt.subplots(figsize=(10, 5))\n",
    "\n",
    "sns.distplot(df['final_crack'], color= 'violet')"
   ]
  },
  {
   "cell_type": "code",
   "execution_count": 12,
   "metadata": {},
   "outputs": [],
   "source": [
    "df_2 =df\n",
    "# df_3 = df.copy()"
   ]
  },
  {
   "cell_type": "code",
   "execution_count": 13,
   "metadata": {},
   "outputs": [
    {
     "data": {
      "text/html": [
       "<div>\n",
       "<style scoped>\n",
       "    .dataframe tbody tr th:only-of-type {\n",
       "        vertical-align: middle;\n",
       "    }\n",
       "\n",
       "    .dataframe tbody tr th {\n",
       "        vertical-align: top;\n",
       "    }\n",
       "\n",
       "    .dataframe thead th {\n",
       "        text-align: right;\n",
       "    }\n",
       "</style>\n",
       "<table border=\"1\" class=\"dataframe\">\n",
       "  <thead>\n",
       "    <tr style=\"text-align: right;\">\n",
       "      <th></th>\n",
       "      <th>KsIC (MPa)</th>\n",
       "      <th>CTODC(mm)</th>\n",
       "    </tr>\n",
       "    <tr>\n",
       "      <th>f'c(MPa)</th>\n",
       "      <th></th>\n",
       "      <th></th>\n",
       "    </tr>\n",
       "  </thead>\n",
       "  <tbody>\n",
       "    <tr>\n",
       "      <th>42.20</th>\n",
       "      <td>0.503704</td>\n",
       "      <td>0.007204</td>\n",
       "    </tr>\n",
       "    <tr>\n",
       "      <th>57.14</th>\n",
       "      <td>1.076716</td>\n",
       "      <td>0.041500</td>\n",
       "    </tr>\n",
       "    <tr>\n",
       "      <th>65.10</th>\n",
       "      <td>0.730065</td>\n",
       "      <td>0.018157</td>\n",
       "    </tr>\n",
       "    <tr>\n",
       "      <th>67.50</th>\n",
       "      <td>1.006791</td>\n",
       "      <td>0.014659</td>\n",
       "    </tr>\n",
       "    <tr>\n",
       "      <th>87.71</th>\n",
       "      <td>7.171118</td>\n",
       "      <td>0.227559</td>\n",
       "    </tr>\n",
       "    <tr>\n",
       "      <th>122.52</th>\n",
       "      <td>11.089160</td>\n",
       "      <td>0.270176</td>\n",
       "    </tr>\n",
       "  </tbody>\n",
       "</table>\n",
       "</div>"
      ],
      "text/plain": [
       "          KsIC (MPa)  CTODC(mm)\n",
       "f'c(MPa)                       \n",
       "42.20       0.503704   0.007204\n",
       "57.14       1.076716   0.041500\n",
       "65.10       0.730065   0.018157\n",
       "67.50       1.006791   0.014659\n",
       "87.71       7.171118   0.227559\n",
       "122.52     11.089160   0.270176"
      ]
     },
     "execution_count": 13,
     "metadata": {},
     "output_type": "execute_result"
    }
   ],
   "source": [
    "compare_value = pd.DataFrame(df_2[['KsIC (MPa)', 'CTODC(mm)']].groupby(\n",
    "    by=df_2['f\\'c(MPa)']).mean())\n",
    "compare_value"
   ]
  },
  {
   "cell_type": "code",
   "execution_count": 14,
   "metadata": {},
   "outputs": [
    {
     "data": {
      "text/plain": [
       "<AxesSubplot:xlabel=\"f'c(MPa)\">"
      ]
     },
     "execution_count": 14,
     "metadata": {},
     "output_type": "execute_result"
    },
    {
     "data": {
      "image/png": "[encoded data removed]",
      "text/plain": [
       "<Figure size 432x288 with 1 Axes>"
      ]
     },
     "metadata": {},
     "output_type": "display_data"
    }
   ],
   "source": [
    "compare_value.drop('KsIC (MPa)', axis=1).plot()\n"
   ]
  },
  {
   "cell_type": "code",
   "execution_count": 15,
   "metadata": {},
   "outputs": [
    {
     "data": {
      "text/plain": [
       "<AxesSubplot:xlabel=\"f'c(MPa)\">"
      ]
     },
     "execution_count": 15,
     "metadata": {},
     "output_type": "execute_result"
    },
    {
     "data": {
      "image/png": "[encoded data removed]",
      "text/plain": [
       "<Figure size 432x288 with 1 Axes>"
      ]
     },
     "metadata": {},
     "output_type": "display_data"
    }
   ],
   "source": [
    "compare_value.drop('CTODC(mm)', axis=1).plot()\n"
   ]
  },
  {
   "cell_type": "code",
   "execution_count": 16,
   "metadata": {},
   "outputs": [
    {
     "data": {
      "text/html": [
       "<div>\n",
       "<style scoped>\n",
       "    .dataframe tbody tr th:only-of-type {\n",
       "        vertical-align: middle;\n",
       "    }\n",
       "\n",
       "    .dataframe tbody tr th {\n",
       "        vertical-align: top;\n",
       "    }\n",
       "\n",
       "    .dataframe thead th {\n",
       "        text-align: right;\n",
       "    }\n",
       "</style>\n",
       "<table border=\"1\" class=\"dataframe\">\n",
       "  <thead>\n",
       "    <tr style=\"text-align: right;\">\n",
       "      <th></th>\n",
       "      <th>KsIC (MPa)</th>\n",
       "      <th>CTODC(mm)</th>\n",
       "    </tr>\n",
       "    <tr>\n",
       "      <th>Pmax (N)Avg</th>\n",
       "      <th></th>\n",
       "      <th></th>\n",
       "    </tr>\n",
       "  </thead>\n",
       "  <tbody>\n",
       "    <tr>\n",
       "      <th>19490.0000</th>\n",
       "      <td>13.984000</td>\n",
       "      <td>0.581000</td>\n",
       "    </tr>\n",
       "    <tr>\n",
       "      <th>19310.0000</th>\n",
       "      <td>13.801000</td>\n",
       "      <td>0.563000</td>\n",
       "    </tr>\n",
       "    <tr>\n",
       "      <th>14230.0000</th>\n",
       "      <td>13.541000</td>\n",
       "      <td>0.483000</td>\n",
       "    </tr>\n",
       "    <tr>\n",
       "      <th>13980.0000</th>\n",
       "      <td>13.582000</td>\n",
       "      <td>0.490000</td>\n",
       "    </tr>\n",
       "    <tr>\n",
       "      <th>13510.0000</th>\n",
       "      <td>12.000000</td>\n",
       "      <td>0.301000</td>\n",
       "    </tr>\n",
       "    <tr>\n",
       "      <th>13370.0000</th>\n",
       "      <td>12.013000</td>\n",
       "      <td>0.306900</td>\n",
       "    </tr>\n",
       "    <tr>\n",
       "      <th>12516.6667</th>\n",
       "      <td>0.995158</td>\n",
       "      <td>0.014765</td>\n",
       "    </tr>\n",
       "    <tr>\n",
       "      <th>10850.0000</th>\n",
       "      <td>11.949000</td>\n",
       "      <td>0.389800</td>\n",
       "    </tr>\n",
       "    <tr>\n",
       "      <th>10620.0000</th>\n",
       "      <td>11.892000</td>\n",
       "      <td>0.383000</td>\n",
       "    </tr>\n",
       "    <tr>\n",
       "      <th>10300.0000</th>\n",
       "      <td>11.103000</td>\n",
       "      <td>0.172000</td>\n",
       "    </tr>\n",
       "    <tr>\n",
       "      <th>10120.0000</th>\n",
       "      <td>11.321000</td>\n",
       "      <td>0.181000</td>\n",
       "    </tr>\n",
       "    <tr>\n",
       "      <th>10010.0000</th>\n",
       "      <td>12.652000</td>\n",
       "      <td>0.440000</td>\n",
       "    </tr>\n",
       "    <tr>\n",
       "      <th>9990.0000</th>\n",
       "      <td>12.601000</td>\n",
       "      <td>0.433000</td>\n",
       "    </tr>\n",
       "    <tr>\n",
       "      <th>8350.0000</th>\n",
       "      <td>8.479000</td>\n",
       "      <td>0.456000</td>\n",
       "    </tr>\n",
       "    <tr>\n",
       "      <th>8200.0000</th>\n",
       "      <td>8.453000</td>\n",
       "      <td>0.450000</td>\n",
       "    </tr>\n",
       "  </tbody>\n",
       "</table>\n",
       "</div>"
      ],
      "text/plain": [
       "             KsIC (MPa)  CTODC(mm)\n",
       "Pmax (N)Avg                       \n",
       "19490.0000    13.984000   0.581000\n",
       "19310.0000    13.801000   0.563000\n",
       "14230.0000    13.541000   0.483000\n",
       "13980.0000    13.582000   0.490000\n",
       "13510.0000    12.000000   0.301000\n",
       "13370.0000    12.013000   0.306900\n",
       "12516.6667     0.995158   0.014765\n",
       "10850.0000    11.949000   0.389800\n",
       "10620.0000    11.892000   0.383000\n",
       "10300.0000    11.103000   0.172000\n",
       "10120.0000    11.321000   0.181000\n",
       "10010.0000    12.652000   0.440000\n",
       "9990.0000     12.601000   0.433000\n",
       "8350.0000      8.479000   0.456000\n",
       "8200.0000      8.453000   0.450000"
      ]
     },
     "execution_count": 16,
     "metadata": {},
     "output_type": "execute_result"
    }
   ],
   "source": [
    "compare_value = pd.DataFrame(\n",
    "    df[['KsIC (MPa)', 'CTODC(mm)']].groupby(by=df['Pmax (N)Avg']).mean())\n",
    "compare_value.sort_index(ascending=False).head(15)\n",
    "# we have 64 distinct peak loads"
   ]
  },
  {
   "cell_type": "code",
   "execution_count": 17,
   "metadata": {},
   "outputs": [
    {
     "data": {
      "text/html": [
       "<div>\n",
       "<style scoped>\n",
       "    .dataframe tbody tr th:only-of-type {\n",
       "        vertical-align: middle;\n",
       "    }\n",
       "\n",
       "    .dataframe tbody tr th {\n",
       "        vertical-align: top;\n",
       "    }\n",
       "\n",
       "    .dataframe thead th {\n",
       "        text-align: right;\n",
       "    }\n",
       "</style>\n",
       "<table border=\"1\" class=\"dataframe\">\n",
       "  <thead>\n",
       "    <tr style=\"text-align: right;\">\n",
       "      <th></th>\n",
       "      <th>KsIC (MPa)</th>\n",
       "      <th>CTODC(mm)</th>\n",
       "    </tr>\n",
       "    <tr>\n",
       "      <th>Pmax (N)Avg</th>\n",
       "      <th></th>\n",
       "      <th></th>\n",
       "    </tr>\n",
       "  </thead>\n",
       "  <tbody>\n",
       "    <tr>\n",
       "      <th>583.2167</th>\n",
       "      <td>0.503704</td>\n",
       "      <td>0.007204</td>\n",
       "    </tr>\n",
       "    <tr>\n",
       "      <th>1140.0000</th>\n",
       "      <td>0.091600</td>\n",
       "      <td>0.008100</td>\n",
       "    </tr>\n",
       "    <tr>\n",
       "      <th>1420.0000</th>\n",
       "      <td>0.009000</td>\n",
       "      <td>0.008000</td>\n",
       "    </tr>\n",
       "    <tr>\n",
       "      <th>1839.4219</th>\n",
       "      <td>0.496700</td>\n",
       "      <td>0.008930</td>\n",
       "    </tr>\n",
       "    <tr>\n",
       "      <th>1840.0000</th>\n",
       "      <td>1.083000</td>\n",
       "      <td>0.017800</td>\n",
       "    </tr>\n",
       "    <tr>\n",
       "      <th>1840.4219</th>\n",
       "      <td>0.523300</td>\n",
       "      <td>0.009900</td>\n",
       "    </tr>\n",
       "    <tr>\n",
       "      <th>1841.4219</th>\n",
       "      <td>0.528700</td>\n",
       "      <td>0.010000</td>\n",
       "    </tr>\n",
       "    <tr>\n",
       "      <th>1842.4219</th>\n",
       "      <td>0.534100</td>\n",
       "      <td>0.010200</td>\n",
       "    </tr>\n",
       "    <tr>\n",
       "      <th>1843.4219</th>\n",
       "      <td>0.539600</td>\n",
       "      <td>0.010400</td>\n",
       "    </tr>\n",
       "    <tr>\n",
       "      <th>1844.4219</th>\n",
       "      <td>0.545200</td>\n",
       "      <td>0.010600</td>\n",
       "    </tr>\n",
       "  </tbody>\n",
       "</table>\n",
       "</div>"
      ],
      "text/plain": [
       "             KsIC (MPa)  CTODC(mm)\n",
       "Pmax (N)Avg                       \n",
       "583.2167       0.503704   0.007204\n",
       "1140.0000      0.091600   0.008100\n",
       "1420.0000      0.009000   0.008000\n",
       "1839.4219      0.496700   0.008930\n",
       "1840.0000      1.083000   0.017800\n",
       "1840.4219      0.523300   0.009900\n",
       "1841.4219      0.528700   0.010000\n",
       "1842.4219      0.534100   0.010200\n",
       "1843.4219      0.539600   0.010400\n",
       "1844.4219      0.545200   0.010600"
      ]
     },
     "execution_count": 17,
     "metadata": {},
     "output_type": "execute_result"
    }
   ],
   "source": [
    "compare_value.head(10)"
   ]
  },
  {
   "cell_type": "code",
   "execution_count": 18,
   "metadata": {},
   "outputs": [
    {
     "data": {
      "text/plain": [
       "<AxesSubplot:xlabel='Pmax (N)Avg'>"
      ]
     },
     "execution_count": 18,
     "metadata": {},
     "output_type": "execute_result"
    },
    {
     "data": {
      "image/png": "[encoded data removed]",
      "text/plain": [
       "<Figure size 720x360 with 1 Axes>"
      ]
     },
     "metadata": {},
     "output_type": "display_data"
    }
   ],
   "source": [
    "\n",
    "sns.set(font_scale=1.0)\n",
    "\n",
    "fig, ax = plt.subplots(figsize=(10, 5))\n",
    "\n",
    "compare_value['KsIC (MPa)'].plot()"
   ]
  },
  {
   "cell_type": "code",
   "execution_count": 19,
   "metadata": {},
   "outputs": [
    {
     "data": {
      "text/plain": [
       "<AxesSubplot:xlabel='Pmax (N)Avg'>"
      ]
     },
     "execution_count": 19,
     "metadata": {},
     "output_type": "execute_result"
    },
    {
     "data": {
      "image/png": "[encoded data removed]",
      "text/plain": [
       "<Figure size 720x360 with 1 Axes>"
      ]
     },
     "metadata": {},
     "output_type": "display_data"
    }
   ],
   "source": [
    "\n",
    "sns.set(font_scale=1.0)\n",
    "\n",
    "fig, ax = plt.subplots(figsize=(10, 5))\n",
    "\n",
    "compare_value['CTODC(mm)'].plot()\n"
   ]
  },
  {
   "cell_type": "code",
   "execution_count": 20,
   "metadata": {},
   "outputs": [
    {
     "data": {
      "text/html": [
       "<div>\n",
       "<style scoped>\n",
       "    .dataframe tbody tr th:only-of-type {\n",
       "        vertical-align: middle;\n",
       "    }\n",
       "\n",
       "    .dataframe tbody tr th {\n",
       "        vertical-align: top;\n",
       "    }\n",
       "\n",
       "    .dataframe thead th {\n",
       "        text-align: right;\n",
       "    }\n",
       "</style>\n",
       "<table border=\"1\" class=\"dataframe\">\n",
       "  <thead>\n",
       "    <tr style=\"text-align: right;\">\n",
       "      <th></th>\n",
       "      <th>KsIC (MPa)</th>\n",
       "      <th>CTODC(mm)</th>\n",
       "    </tr>\n",
       "    <tr>\n",
       "      <th>E(GPa)</th>\n",
       "      <th></th>\n",
       "      <th></th>\n",
       "    </tr>\n",
       "  </thead>\n",
       "  <tbody>\n",
       "    <tr>\n",
       "      <th>45.200</th>\n",
       "      <td>0.730065</td>\n",
       "      <td>0.018157</td>\n",
       "    </tr>\n",
       "    <tr>\n",
       "      <th>42.987</th>\n",
       "      <td>11.089160</td>\n",
       "      <td>0.270176</td>\n",
       "    </tr>\n",
       "    <tr>\n",
       "      <th>37.890</th>\n",
       "      <td>7.171118</td>\n",
       "      <td>0.227559</td>\n",
       "    </tr>\n",
       "    <tr>\n",
       "      <th>35.780</th>\n",
       "      <td>1.076716</td>\n",
       "      <td>0.041500</td>\n",
       "    </tr>\n",
       "    <tr>\n",
       "      <th>35.500</th>\n",
       "      <td>1.006791</td>\n",
       "      <td>0.014659</td>\n",
       "    </tr>\n",
       "    <tr>\n",
       "      <th>27.800</th>\n",
       "      <td>0.503704</td>\n",
       "      <td>0.007204</td>\n",
       "    </tr>\n",
       "  </tbody>\n",
       "</table>\n",
       "</div>"
      ],
      "text/plain": [
       "        KsIC (MPa)  CTODC(mm)\n",
       "E(GPa)                       \n",
       "45.200    0.730065   0.018157\n",
       "42.987   11.089160   0.270176\n",
       "37.890    7.171118   0.227559\n",
       "35.780    1.076716   0.041500\n",
       "35.500    1.006791   0.014659\n",
       "27.800    0.503704   0.007204"
      ]
     },
     "execution_count": 20,
     "metadata": {},
     "output_type": "execute_result"
    }
   ],
   "source": [
    "compare_value = pd.DataFrame(\n",
    "    df[['KsIC (MPa)', 'CTODC(mm)']].groupby(by=df['E(GPa)']).mean())\n",
    "compare_value.sort_index(ascending=False).head(15)"
   ]
  },
  {
   "cell_type": "code",
   "execution_count": 21,
   "metadata": {},
   "outputs": [
    {
     "data": {
      "text/plain": [
       "<AxesSubplot:xlabel='E(GPa)'>"
      ]
     },
     "execution_count": 21,
     "metadata": {},
     "output_type": "execute_result"
    },
    {
     "data": {
      "image/png": "[encoded data removed]",
      "text/plain": [
       "<Figure size 720x360 with 1 Axes>"
      ]
     },
     "metadata": {},
     "output_type": "display_data"
    }
   ],
   "source": [
    "sns.set(font_scale=1.0)\n",
    "\n",
    "fig, ax = plt.subplots(figsize=(10, 5))\n",
    "\n",
    "\n",
    "compare_value['KsIC (MPa)'].plot()\n"
   ]
  },
  {
   "cell_type": "code",
   "execution_count": 22,
   "metadata": {},
   "outputs": [
    {
     "data": {
      "text/plain": [
       "<AxesSubplot:xlabel='E(GPa)'>"
      ]
     },
     "execution_count": 22,
     "metadata": {},
     "output_type": "execute_result"
    },
    {
     "data": {
      "image/png": "[encoded data removed]",
      "text/plain": [
       "<Figure size 720x360 with 1 Axes>"
      ]
     },
     "metadata": {},
     "output_type": "display_data"
    }
   ],
   "source": [
    "sns.set(font_scale=1.0)\n",
    "\n",
    "fig, ax = plt.subplots(figsize=(10, 5))\n",
    "\n",
    "\n",
    "compare_value['CTODC(mm)'].plot()\n"
   ]
  },
  {
   "cell_type": "code",
   "execution_count": 82,
   "metadata": {},
   "outputs": [
    {
     "data": {
      "image/png": "[encoded data removed]",
      "text/plain": [
       "<Figure size 1440x720 with 2 Axes>"
      ]
     },
     "metadata": {},
     "output_type": "display_data"
    }
   ],
   "source": [
    "df_corr = df.corr()\n",
    "\n",
    "sns.set(font_scale=1.0)\n",
    "\n",
    "fig, ax = plt.subplots(figsize=(20, 10))\n",
    "\n",
    "hm_movies = sns.heatmap(df_corr, cbar=True, annot=True, square=True, fmt=\".2f\", annot_kws={\n",
    "                        \"size\": 10, }, yticklabels=df_corr.index, xticklabels=df_corr.index)\n"
   ]
  },
  {
   "cell_type": "code",
   "execution_count": 24,
   "metadata": {},
   "outputs": [
    {
     "name": "stdout",
     "output_type": "stream",
     "text": [
      "\n",
      "KsIC (MPa):\n",
      " - Range: 13.97\n",
      " - Variance: 9.58\n",
      " - Std.Dev: 3.10\n",
      "\n",
      "CTODC(mm):\n",
      " - Range: 0.58\n",
      " - Variance: 0.01\n",
      " - Std.Dev: 0.10\n"
     ]
    }
   ],
   "source": [
    "for col_name in ['KsIC (MPa)', 'CTODC(mm)']:\n",
    "    col = df[col_name]\n",
    "    rng = col.max() - col.min()\n",
    "    var = col.var()\n",
    "    std = col.std()\n",
    "    print('\\n{}:\\n - Range: {:.2f}\\n - Variance: {:.2f}\\n - Std.Dev: {:.2f}'.format(col_name, rng, var, std))"
   ]
  },
  {
   "cell_type": "code",
   "execution_count": 83,
   "metadata": {},
   "outputs": [],
   "source": [
    "from sklearn.linear_model import LinearRegression\n",
    "from sklearn.model_selection import train_test_split\n",
    "from sklearn.preprocessing import RobustScaler\n",
    "from sklearn.preprocessing import PolynomialFeatures\n"
   ]
  },
  {
   "cell_type": "code",
   "execution_count": 84,
   "metadata": {},
   "outputs": [],
   "source": [
    "y = df[['CTODC(mm)', 'KsIC (MPa)']].values\n",
    "X = df.drop(['CTODC(mm)', 'KsIC (MPa)'], axis=\"columns\")\n",
    "XX = df.drop(['CTODC(mm)', 'KsIC (MPa)'], axis=\"columns\")"
   ]
  },
  {
   "cell_type": "code",
   "execution_count": 85,
   "metadata": {},
   "outputs": [],
   "source": [
    "#Normalize data and save as pickle\n",
    "Polynomial = PolynomialFeatures(2, interaction_only=True)\n",
    "X = Polynomial.fit_transform(X)\n",
    "\n",
    "\n",
    "\n",
    "ScalerY = RobustScaler().fit(y)\n",
    "pickle.dump(ScalerY, open('scalery.pkl', 'wb'))\n",
    "\n",
    "Scaler = RobustScaler().fit(X)\n",
    "pickle.dump(Scaler, open('scalerX.pkl', 'wb'))\n"
   ]
  },
  {
   "cell_type": "code",
   "execution_count": 86,
   "metadata": {},
   "outputs": [
    {
     "data": {
      "text/plain": [
       "array(['1', 'E(GPa)', \"f'c(MPa)\", 'Pmax (N)Avg', 'final_crack',\n",
       "       \"E(GPa) f'c(MPa)\", 'E(GPa) Pmax (N)Avg', 'E(GPa) final_crack',\n",
       "       \"f'c(MPa) Pmax (N)Avg\", \"f'c(MPa) final_crack\",\n",
       "       'Pmax (N)Avg final_crack'], dtype=object)"
      ]
     },
     "execution_count": 86,
     "metadata": {},
     "output_type": "execute_result"
    }
   ],
   "source": [
    "column = Polynomial.get_feature_names_out()\n",
    "column"
   ]
  },
  {
   "cell_type": "code",
   "execution_count": 87,
   "metadata": {},
   "outputs": [
    {
     "name": "stdout",
     "output_type": "stream",
     "text": [
      "Train set: (249, 11) (249, 2)\n",
      "Test set: (63, 11) (63, 2)\n"
     ]
    }
   ],
   "source": [
    "#Apply tranformation \n",
    "\n",
    "X = Scaler.transform(X)\n",
    "X_train, X_test, y_train, y_test = train_test_split(\n",
    "    X, y, test_size=0.2, random_state=4)\n",
    "print('Train set:', X_train.shape,  y_train.shape)\n",
    "print('Test set:', X_test.shape,  y_test.shape)\n"
   ]
  },
  {
   "cell_type": "code",
   "execution_count": 88,
   "metadata": {},
   "outputs": [],
   "source": [
    "def get_weights_df(model, feat, col_name, col_name_2):\n",
    "    #this function returns the weight of every feature\n",
    "    weights_ctod = pd.Series(\n",
    "        model.coef_[0], feat).sort_values()\n",
    "    weights_ctod = pd.DataFrame(weights_ctod).reset_index()\n",
    "    weights_ctod.columns = ['Features', col_name]\n",
    "    weights_ctod[col_name].round(3)\n",
    "\n",
    "    weights_kisc = pd.Series(\n",
    "        model.coef_[1], feat).sort_values()\n",
    "    weights_kisc_df = pd.DataFrame(weights_kisc).reset_index()\n",
    "    weights_kisc_df.columns = ['Features', col_name_2]\n",
    "    weights_kisc_df[col_name_2].round(3)\n",
    "\n",
    "    weights_df = weights_ctod.merge(\n",
    "        weights_kisc_df, how='inner', on=\"Features\")\n",
    "    return weights_df\n"
   ]
  },
  {
   "cell_type": "code",
   "execution_count": 89,
   "metadata": {},
   "outputs": [
    {
     "data": {
      "text/html": [
       "<style>#sk-container-id-5 {color: black;background-color: white;}#sk-container-id-5 pre{padding: 0;}#sk-container-id-5 div.sk-toggleable {background-color: white;}#sk-container-id-5 label.sk-toggleable__label {cursor: pointer;display: block;width: 100%;margin-bottom: 0;padding: 0.3em;box-sizing: border-box;text-align: center;}#sk-container-id-5 label.sk-toggleable__label-arrow:before {content: \"▸\";float: left;margin-right: 0.25em;color: #696969;}#sk-container-id-5 label.sk-toggleable__label-arrow:hover:before {color: black;}#sk-container-id-5 div.sk-estimator:hover label.sk-toggleable__label-arrow:before {color: black;}#sk-container-id-5 div.sk-toggleable__content {max-height: 0;max-width: 0;overflow: hidden;text-align: left;background-color: #f0f8ff;}#sk-container-id-5 div.sk-toggleable__content pre {margin: 0.2em;color: black;border-radius: 0.25em;background-color: #f0f8ff;}#sk-container-id-5 input.sk-toggleable__control:checked~div.sk-toggleable__content {max-height: 200px;max-width: 100%;overflow: auto;}#sk-container-id-5 input.sk-toggleable__control:checked~label.sk-toggleable__label-arrow:before {content: \"▾\";}#sk-container-id-5 div.sk-estimator input.sk-toggleable__control:checked~label.sk-toggleable__label {background-color: #d4ebff;}#sk-container-id-5 div.sk-label input.sk-toggleable__control:checked~label.sk-toggleable__label {background-color: #d4ebff;}#sk-container-id-5 input.sk-hidden--visually {border: 0;clip: rect(1px 1px 1px 1px);clip: rect(1px, 1px, 1px, 1px);height: 1px;margin: -1px;overflow: hidden;padding: 0;position: absolute;width: 1px;}#sk-container-id-5 div.sk-estimator {font-family: monospace;background-color: #f0f8ff;border: 1px dotted black;border-radius: 0.25em;box-sizing: border-box;margin-bottom: 0.5em;}#sk-container-id-5 div.sk-estimator:hover {background-color: #d4ebff;}#sk-container-id-5 div.sk-parallel-item::after {content: \"\";width: 100%;border-bottom: 1px solid gray;flex-grow: 1;}#sk-container-id-5 div.sk-label:hover label.sk-toggleable__label {background-color: #d4ebff;}#sk-container-id-5 div.sk-serial::before {content: \"\";position: absolute;border-left: 1px solid gray;box-sizing: border-box;top: 0;bottom: 0;left: 50%;z-index: 0;}#sk-container-id-5 div.sk-serial {display: flex;flex-direction: column;align-items: center;background-color: white;padding-right: 0.2em;padding-left: 0.2em;position: relative;}#sk-container-id-5 div.sk-item {position: relative;z-index: 1;}#sk-container-id-5 div.sk-parallel {display: flex;align-items: stretch;justify-content: center;background-color: white;position: relative;}#sk-container-id-5 div.sk-item::before, #sk-container-id-5 div.sk-parallel-item::before {content: \"\";position: absolute;border-left: 1px solid gray;box-sizing: border-box;top: 0;bottom: 0;left: 50%;z-index: -1;}#sk-container-id-5 div.sk-parallel-item {display: flex;flex-direction: column;z-index: 1;position: relative;background-color: white;}#sk-container-id-5 div.sk-parallel-item:first-child::after {align-self: flex-end;width: 50%;}#sk-container-id-5 div.sk-parallel-item:last-child::after {align-self: flex-start;width: 50%;}#sk-container-id-5 div.sk-parallel-item:only-child::after {width: 0;}#sk-container-id-5 div.sk-dashed-wrapped {border: 1px dashed gray;margin: 0 0.4em 0.5em 0.4em;box-sizing: border-box;padding-bottom: 0.4em;background-color: white;}#sk-container-id-5 div.sk-label label {font-family: monospace;font-weight: bold;display: inline-block;line-height: 1.2em;}#sk-container-id-5 div.sk-label-container {text-align: center;}#sk-container-id-5 div.sk-container {/* jupyter's `normalize.less` sets `[hidden] { display: none; }` but bootstrap.min.css set `[hidden] { display: none !important; }` so we also need the `!important` here to be able to override the default hidden behavior on the sphinx rendered scikit-learn.org. See: https://github.com/scikit-learn/scikit-learn/issues/21755 */display: inline-block !important;position: relative;}#sk-container-id-5 div.sk-text-repr-fallback {display: none;}</style><div id=\"sk-container-id-5\" class=\"sk-top-container\"><div class=\"sk-text-repr-fallback\"><pre>LinearRegression()</pre><b>In a Jupyter environment, please rerun this cell to show the HTML representation or trust the notebook. <br />On GitHub, the HTML representation is unable to render, please try loading this page with nbviewer.org.</b></div><div class=\"sk-container\" hidden><div class=\"sk-item\"><div class=\"sk-estimator sk-toggleable\"><input class=\"sk-toggleable__control sk-hidden--visually\" id=\"sk-estimator-id-5\" type=\"checkbox\" checked><label for=\"sk-estimator-id-5\" class=\"sk-toggleable__label sk-toggleable__label-arrow\">LinearRegression</label><div class=\"sk-toggleable__content\"><pre>LinearRegression()</pre></div></div></div></div></div>"
      ],
      "text/plain": [
       "LinearRegression()"
      ]
     },
     "execution_count": 89,
     "metadata": {},
     "output_type": "execute_result"
    }
   ],
   "source": [
    "Lr = LinearRegression()\n",
    "Lr.fit(X_train,y_train)"
   ]
  },
  {
   "cell_type": "code",
   "execution_count": 90,
   "metadata": {},
   "outputs": [
    {
     "name": "stdout",
     "output_type": "stream",
     "text": [
      "the R-squared: 0.852\n",
      "the mean square error: 0.205\n",
      "the root mean square error: 0.452\n"
     ]
    }
   ],
   "source": [
    "from sklearn.metrics import r2_score, mean_squared_error\n",
    "yhat = Lr.predict(X_test)\n",
    "r2 = r2_score(y_test, yhat),\n",
    "mse = mean_squared_error(y_test, yhat)\n",
    "rmse = np.sqrt(mse)\n",
    "\n",
    "print('the R-squared: %.3f' % r2)\n",
    "print('the mean square error: %.3f' % mse)\n",
    "print('the root mean square error: %.3f' % rmse)\n"
   ]
  },
  {
   "cell_type": "code",
   "execution_count": 91,
   "metadata": {},
   "outputs": [
    {
     "name": "stdout",
     "output_type": "stream",
     "text": [
      "Number of parameters: 12\n",
      "AIC: -471.153\n"
     ]
    }
   ],
   "source": [
    "from math import log\n",
    "\n",
    "\n",
    "def calculate_aic(n, mse, num_params):\n",
    "\taic = n * log(mse) + 2 * num_params\n",
    "\treturn aic\n",
    "\n",
    "\n",
    "num_params = len(Lr.coef_[0]) + 1\n",
    "print('Number of parameters: %d' % (num_params))\n",
    "\n",
    "aic = calculate_aic(len(y), mse, num_params)\n",
    "print('AIC: %.3f' % aic)\n"
   ]
  },
  {
   "cell_type": "code",
   "execution_count": 92,
   "metadata": {},
   "outputs": [
    {
     "data": {
      "text/html": [
       "<div>\n",
       "<style scoped>\n",
       "    .dataframe tbody tr th:only-of-type {\n",
       "        vertical-align: middle;\n",
       "    }\n",
       "\n",
       "    .dataframe tbody tr th {\n",
       "        vertical-align: top;\n",
       "    }\n",
       "\n",
       "    .dataframe thead th {\n",
       "        text-align: right;\n",
       "    }\n",
       "</style>\n",
       "<table border=\"1\" class=\"dataframe\">\n",
       "  <thead>\n",
       "    <tr style=\"text-align: right;\">\n",
       "      <th></th>\n",
       "      <th>Features</th>\n",
       "      <th>linear_reg_Weight_ctod</th>\n",
       "      <th>linear_reg_Weight_kics</th>\n",
       "    </tr>\n",
       "  </thead>\n",
       "  <tbody>\n",
       "    <tr>\n",
       "      <th>0</th>\n",
       "      <td>Pmax (N)Avg</td>\n",
       "      <td>-3.397678</td>\n",
       "      <td>-67.327838</td>\n",
       "    </tr>\n",
       "    <tr>\n",
       "      <th>1</th>\n",
       "      <td>f'c(MPa) Pmax (N)Avg</td>\n",
       "      <td>-0.669507</td>\n",
       "      <td>-15.994099</td>\n",
       "    </tr>\n",
       "    <tr>\n",
       "      <th>2</th>\n",
       "      <td>E(GPa) f'c(MPa)</td>\n",
       "      <td>-0.615072</td>\n",
       "      <td>-8.350571</td>\n",
       "    </tr>\n",
       "    <tr>\n",
       "      <th>3</th>\n",
       "      <td>final_crack</td>\n",
       "      <td>-0.336087</td>\n",
       "      <td>-8.097447</td>\n",
       "    </tr>\n",
       "    <tr>\n",
       "      <th>4</th>\n",
       "      <td>f'c(MPa) final_crack</td>\n",
       "      <td>-0.261600</td>\n",
       "      <td>-3.541733</td>\n",
       "    </tr>\n",
       "    <tr>\n",
       "      <th>5</th>\n",
       "      <td>1</td>\n",
       "      <td>0.000000</td>\n",
       "      <td>0.000000</td>\n",
       "    </tr>\n",
       "    <tr>\n",
       "      <th>6</th>\n",
       "      <td>Pmax (N)Avg final_crack</td>\n",
       "      <td>0.089280</td>\n",
       "      <td>2.097477</td>\n",
       "    </tr>\n",
       "    <tr>\n",
       "      <th>7</th>\n",
       "      <td>E(GPa)</td>\n",
       "      <td>0.106581</td>\n",
       "      <td>-1.545047</td>\n",
       "    </tr>\n",
       "    <tr>\n",
       "      <th>8</th>\n",
       "      <td>f'c(MPa)</td>\n",
       "      <td>0.128716</td>\n",
       "      <td>2.151581</td>\n",
       "    </tr>\n",
       "    <tr>\n",
       "      <th>9</th>\n",
       "      <td>E(GPa) final_crack</td>\n",
       "      <td>0.583197</td>\n",
       "      <td>11.090585</td>\n",
       "    </tr>\n",
       "    <tr>\n",
       "      <th>10</th>\n",
       "      <td>E(GPa) Pmax (N)Avg</td>\n",
       "      <td>3.571543</td>\n",
       "      <td>72.793236</td>\n",
       "    </tr>\n",
       "  </tbody>\n",
       "</table>\n",
       "</div>"
      ],
      "text/plain": [
       "                   Features  linear_reg_Weight_ctod  linear_reg_Weight_kics\n",
       "0               Pmax (N)Avg               -3.397678              -67.327838\n",
       "1      f'c(MPa) Pmax (N)Avg               -0.669507              -15.994099\n",
       "2           E(GPa) f'c(MPa)               -0.615072               -8.350571\n",
       "3               final_crack               -0.336087               -8.097447\n",
       "4      f'c(MPa) final_crack               -0.261600               -3.541733\n",
       "5                         1                0.000000                0.000000\n",
       "6   Pmax (N)Avg final_crack                0.089280                2.097477\n",
       "7                    E(GPa)                0.106581               -1.545047\n",
       "8                  f'c(MPa)                0.128716                2.151581\n",
       "9        E(GPa) final_crack                0.583197               11.090585\n",
       "10       E(GPa) Pmax (N)Avg                3.571543               72.793236"
      ]
     },
     "execution_count": 92,
     "metadata": {},
     "output_type": "execute_result"
    }
   ],
   "source": [
    "linear_reg_weights = get_weights_df(Lr, column, 'linear_reg_Weight_ctod','linear_reg_Weight_kics' )\n",
    "linear_reg_weights"
   ]
  },
  {
   "cell_type": "code",
   "execution_count": 93,
   "metadata": {},
   "outputs": [],
   "source": [
    "filename = 'first_model.pkl'\n",
    "pickle.dump(Lr,open(filename, 'wb'))"
   ]
  },
  {
   "cell_type": "code",
   "execution_count": 94,
   "metadata": {},
   "outputs": [],
   "source": [
    "from sklearn.metrics import r2_score, mean_squared_error\n",
    "from sklearn.linear_model import Ridge"
   ]
  },
  {
   "cell_type": "code",
   "execution_count": 95,
   "metadata": {},
   "outputs": [],
   "source": [
    "# rigde regression help to reduce overfiting and minimize our errors by adding a penalty terms\n",
    "# min(sum of squared errors + alpha * slope^2)\n",
    "# the model becomes less sensitive to the variation of the factors\n",
    "\n",
    "\n",
    "rscore = []\n",
    "\n",
    "for alpha in range(1000):\n",
    "    ridge_reg = Ridge(alpha = alpha )\n",
    "    ridge_reg.fit(X_train,y_train)\n",
    "    yhat = ridge_reg.predict(X_test)\n",
    "    rscore_=r2_score(y_test,yhat)\n",
    "    rscore.append(rscore_)\n",
    "rscore= np.array(rscore)\n",
    "\n"
   ]
  },
  {
   "cell_type": "code",
   "execution_count": 38,
   "metadata": {},
   "outputs": [
    {
     "data": {
      "image/png": "[encoded data removed]",
      "text/plain": [
       "<Figure size 432x288 with 1 Axes>"
      ]
     },
     "metadata": {},
     "output_type": "display_data"
    },
    {
     "data": {
      "text/plain": [
       "<Figure size 432x288 with 0 Axes>"
      ]
     },
     "metadata": {},
     "output_type": "display_data"
    }
   ],
   "source": [
    "plt.plot(rscore)\n",
    "plt.xlabel('alpha')\n",
    "plt.ylabel('rscore')\n",
    "plt.show()\n",
    "plt.clf()"
   ]
  },
  {
   "cell_type": "code",
   "execution_count": 96,
   "metadata": {},
   "outputs": [
    {
     "name": "stdout",
     "output_type": "stream",
     "text": [
      "the R-squared: 0.873\n",
      "the mean square error: 0.213\n",
      "the root mean square error: 0.461\n"
     ]
    }
   ],
   "source": [
    "ridge_reg = Ridge(alpha= rscore.argmax())\n",
    "ridge_reg.fit(X_train,y_train)\n",
    "yhat= ridge_reg.predict(X_test)\n",
    "r2 = r2_score(y_test,yhat)\n",
    "mse = mean_squared_error(y_test, yhat)\n",
    "rmse = np.sqrt(mse)\n",
    "\n",
    "print('the R-squared: %.3f' % r2)\n",
    "print('the mean square error: %.3f' % mse)\n",
    "print('the root mean square error: %.3f' % rmse)"
   ]
  },
  {
   "cell_type": "code",
   "execution_count": 97,
   "metadata": {},
   "outputs": [
    {
     "data": {
      "text/html": [
       "<div>\n",
       "<style scoped>\n",
       "    .dataframe tbody tr th:only-of-type {\n",
       "        vertical-align: middle;\n",
       "    }\n",
       "\n",
       "    .dataframe tbody tr th {\n",
       "        vertical-align: top;\n",
       "    }\n",
       "\n",
       "    .dataframe thead th {\n",
       "        text-align: right;\n",
       "    }\n",
       "</style>\n",
       "<table border=\"1\" class=\"dataframe\">\n",
       "  <thead>\n",
       "    <tr style=\"text-align: right;\">\n",
       "      <th></th>\n",
       "      <th>Features</th>\n",
       "      <th>ridge_reg_Weight_ctod</th>\n",
       "      <th>ridge_reg_Weight_kisc</th>\n",
       "    </tr>\n",
       "  </thead>\n",
       "  <tbody>\n",
       "    <tr>\n",
       "      <th>0</th>\n",
       "      <td>Pmax (N)Avg</td>\n",
       "      <td>-0.152388</td>\n",
       "      <td>-3.077661</td>\n",
       "    </tr>\n",
       "    <tr>\n",
       "      <th>1</th>\n",
       "      <td>E(GPa) f'c(MPa)</td>\n",
       "      <td>-0.104677</td>\n",
       "      <td>-0.543021</td>\n",
       "    </tr>\n",
       "    <tr>\n",
       "      <th>2</th>\n",
       "      <td>E(GPa) Pmax (N)Avg</td>\n",
       "      <td>-0.050886</td>\n",
       "      <td>-1.202151</td>\n",
       "    </tr>\n",
       "    <tr>\n",
       "      <th>3</th>\n",
       "      <td>final_crack</td>\n",
       "      <td>-0.047741</td>\n",
       "      <td>-1.119517</td>\n",
       "    </tr>\n",
       "    <tr>\n",
       "      <th>4</th>\n",
       "      <td>Pmax (N)Avg final_crack</td>\n",
       "      <td>-0.015237</td>\n",
       "      <td>0.304648</td>\n",
       "    </tr>\n",
       "    <tr>\n",
       "      <th>5</th>\n",
       "      <td>1</td>\n",
       "      <td>0.000000</td>\n",
       "      <td>0.000000</td>\n",
       "    </tr>\n",
       "    <tr>\n",
       "      <th>6</th>\n",
       "      <td>E(GPa) final_crack</td>\n",
       "      <td>0.007489</td>\n",
       "      <td>0.035612</td>\n",
       "    </tr>\n",
       "    <tr>\n",
       "      <th>7</th>\n",
       "      <td>f'c(MPa)</td>\n",
       "      <td>0.022536</td>\n",
       "      <td>0.424592</td>\n",
       "    </tr>\n",
       "    <tr>\n",
       "      <th>8</th>\n",
       "      <td>E(GPa)</td>\n",
       "      <td>0.051155</td>\n",
       "      <td>-0.649255</td>\n",
       "    </tr>\n",
       "    <tr>\n",
       "      <th>9</th>\n",
       "      <td>f'c(MPa) final_crack</td>\n",
       "      <td>0.067947</td>\n",
       "      <td>1.032182</td>\n",
       "    </tr>\n",
       "    <tr>\n",
       "      <th>10</th>\n",
       "      <td>f'c(MPa) Pmax (N)Avg</td>\n",
       "      <td>0.188371</td>\n",
       "      <td>3.067131</td>\n",
       "    </tr>\n",
       "  </tbody>\n",
       "</table>\n",
       "</div>"
      ],
      "text/plain": [
       "                   Features  ridge_reg_Weight_ctod  ridge_reg_Weight_kisc\n",
       "0               Pmax (N)Avg              -0.152388              -3.077661\n",
       "1           E(GPa) f'c(MPa)              -0.104677              -0.543021\n",
       "2        E(GPa) Pmax (N)Avg              -0.050886              -1.202151\n",
       "3               final_crack              -0.047741              -1.119517\n",
       "4   Pmax (N)Avg final_crack              -0.015237               0.304648\n",
       "5                         1               0.000000               0.000000\n",
       "6        E(GPa) final_crack               0.007489               0.035612\n",
       "7                  f'c(MPa)               0.022536               0.424592\n",
       "8                    E(GPa)               0.051155              -0.649255\n",
       "9      f'c(MPa) final_crack               0.067947               1.032182\n",
       "10     f'c(MPa) Pmax (N)Avg               0.188371               3.067131"
      ]
     },
     "execution_count": 97,
     "metadata": {},
     "output_type": "execute_result"
    }
   ],
   "source": [
    "ridge_reg_weights = get_weights_df(\n",
    "    ridge_reg, column, 'ridge_reg_Weight_ctod', 'ridge_reg_Weight_kisc')\n",
    "ridge_reg_weights\n"
   ]
  },
  {
   "cell_type": "code",
   "execution_count": 98,
   "metadata": {},
   "outputs": [
    {
     "name": "stdout",
     "output_type": "stream",
     "text": [
      "Number of parameters: 12\n",
      "AIC: -459.021\n"
     ]
    }
   ],
   "source": [
    "# from math import log\n",
    "def calculate_aic(n, mse, num_params):\n",
    "\taic = n * log(mse) + 2 * num_params\n",
    "\treturn aic\n",
    "\n",
    "\n",
    "num_params = len(ridge_reg.coef_[0]) + 1\n",
    "print('Number of parameters: %d' % (num_params))\n",
    "\n",
    "\n",
    "aic = calculate_aic(len(y), mse, num_params)\n",
    "print('AIC: %.3f' % aic)\n"
   ]
  },
  {
   "cell_type": "code",
   "execution_count": 99,
   "metadata": {},
   "outputs": [],
   "source": [
    "filename = 'final_model.pkl'\n",
    "pickle.dump(ridge_reg,open(filename, 'wb'))"
   ]
  },
  {
   "cell_type": "code",
   "execution_count": 100,
   "metadata": {},
   "outputs": [],
   "source": [
    "# lasso regression help to reduce overfiting and minimize our errors by adding a penalty terms\n",
    "# min(sum of squared errors + alpha * |slope|)\n",
    "# the model becomes less sensitive to the variation of the factors\n",
    "# used for feature selection as the reduce useless variable to zero\n",
    "\n",
    "from sklearn.linear_model import Lasso\n",
    "\n",
    "rscore = []\n",
    "\n",
    "for alpha in range(5000):\n",
    "    lasso_reg = Ridge(alpha = alpha )\n",
    "    lasso_reg.fit(X_train, y_train)\n",
    "    yhat = lasso_reg.predict(X_test)\n",
    "    rscore_=r2_score(y_test,yhat)\n",
    "    rscore.append(rscore_)\n",
    "rscore= np.array(rscore)"
   ]
  },
  {
   "cell_type": "code",
   "execution_count": 101,
   "metadata": {},
   "outputs": [
    {
     "data": {
      "image/png": "[encoded data removed]",
      "text/plain": [
       "<Figure size 432x288 with 1 Axes>"
      ]
     },
     "metadata": {},
     "output_type": "display_data"
    },
    {
     "data": {
      "text/plain": [
       "<Figure size 432x288 with 0 Axes>"
      ]
     },
     "metadata": {},
     "output_type": "display_data"
    }
   ],
   "source": [
    "plt.plot(rscore)\n",
    "plt.xlabel('alpha')\n",
    "plt.ylabel('rscore')\n",
    "plt.show()\n",
    "plt.clf()\n"
   ]
  },
  {
   "cell_type": "code",
   "execution_count": 102,
   "metadata": {},
   "outputs": [
    {
     "name": "stdout",
     "output_type": "stream",
     "text": [
      "the R-squared: 0.873\n",
      "the mean square error: 0.213\n",
      "the root mean square error: 0.461\n"
     ]
    }
   ],
   "source": [
    "lasso_reg = Ridge(alpha= rscore.argmax())\n",
    "lasso_reg.fit(X_train,y_train)\n",
    "yhat= lasso_reg.predict(X_test)\n",
    "r2 = r2_score(y_test,yhat),\n",
    "mse =mean_squared_error(y_test,yhat)\n",
    "rmse = np.sqrt(mse)\n",
    "\n",
    "print('the R-squared: %.3f' % r2)\n",
    "print('the mean square error: %.3f' % mse)\n",
    "print('the root mean square error: %.3f' % rmse)\n"
   ]
  },
  {
   "cell_type": "code",
   "execution_count": 103,
   "metadata": {},
   "outputs": [
    {
     "data": {
      "text/html": [
       "<div>\n",
       "<style scoped>\n",
       "    .dataframe tbody tr th:only-of-type {\n",
       "        vertical-align: middle;\n",
       "    }\n",
       "\n",
       "    .dataframe tbody tr th {\n",
       "        vertical-align: top;\n",
       "    }\n",
       "\n",
       "    .dataframe thead th {\n",
       "        text-align: right;\n",
       "    }\n",
       "</style>\n",
       "<table border=\"1\" class=\"dataframe\">\n",
       "  <thead>\n",
       "    <tr style=\"text-align: right;\">\n",
       "      <th></th>\n",
       "      <th>Features</th>\n",
       "      <th>lasso_reg_Weight_ctod</th>\n",
       "      <th>lasso_reg_Weight_kisc</th>\n",
       "    </tr>\n",
       "  </thead>\n",
       "  <tbody>\n",
       "    <tr>\n",
       "      <th>0</th>\n",
       "      <td>Pmax (N)Avg</td>\n",
       "      <td>-0.152388</td>\n",
       "      <td>-3.077661</td>\n",
       "    </tr>\n",
       "    <tr>\n",
       "      <th>1</th>\n",
       "      <td>E(GPa) f'c(MPa)</td>\n",
       "      <td>-0.104677</td>\n",
       "      <td>-0.543021</td>\n",
       "    </tr>\n",
       "    <tr>\n",
       "      <th>2</th>\n",
       "      <td>E(GPa) Pmax (N)Avg</td>\n",
       "      <td>-0.050886</td>\n",
       "      <td>-1.202151</td>\n",
       "    </tr>\n",
       "    <tr>\n",
       "      <th>3</th>\n",
       "      <td>final_crack</td>\n",
       "      <td>-0.047741</td>\n",
       "      <td>-1.119517</td>\n",
       "    </tr>\n",
       "    <tr>\n",
       "      <th>4</th>\n",
       "      <td>Pmax (N)Avg final_crack</td>\n",
       "      <td>-0.015237</td>\n",
       "      <td>0.304648</td>\n",
       "    </tr>\n",
       "    <tr>\n",
       "      <th>5</th>\n",
       "      <td>1</td>\n",
       "      <td>0.000000</td>\n",
       "      <td>0.000000</td>\n",
       "    </tr>\n",
       "    <tr>\n",
       "      <th>6</th>\n",
       "      <td>E(GPa) final_crack</td>\n",
       "      <td>0.007489</td>\n",
       "      <td>0.035612</td>\n",
       "    </tr>\n",
       "    <tr>\n",
       "      <th>7</th>\n",
       "      <td>f'c(MPa)</td>\n",
       "      <td>0.022536</td>\n",
       "      <td>0.424592</td>\n",
       "    </tr>\n",
       "    <tr>\n",
       "      <th>8</th>\n",
       "      <td>E(GPa)</td>\n",
       "      <td>0.051155</td>\n",
       "      <td>-0.649255</td>\n",
       "    </tr>\n",
       "    <tr>\n",
       "      <th>9</th>\n",
       "      <td>f'c(MPa) final_crack</td>\n",
       "      <td>0.067947</td>\n",
       "      <td>1.032182</td>\n",
       "    </tr>\n",
       "    <tr>\n",
       "      <th>10</th>\n",
       "      <td>f'c(MPa) Pmax (N)Avg</td>\n",
       "      <td>0.188371</td>\n",
       "      <td>3.067131</td>\n",
       "    </tr>\n",
       "  </tbody>\n",
       "</table>\n",
       "</div>"
      ],
      "text/plain": [
       "                   Features  lasso_reg_Weight_ctod  lasso_reg_Weight_kisc\n",
       "0               Pmax (N)Avg              -0.152388              -3.077661\n",
       "1           E(GPa) f'c(MPa)              -0.104677              -0.543021\n",
       "2        E(GPa) Pmax (N)Avg              -0.050886              -1.202151\n",
       "3               final_crack              -0.047741              -1.119517\n",
       "4   Pmax (N)Avg final_crack              -0.015237               0.304648\n",
       "5                         1               0.000000               0.000000\n",
       "6        E(GPa) final_crack               0.007489               0.035612\n",
       "7                  f'c(MPa)               0.022536               0.424592\n",
       "8                    E(GPa)               0.051155              -0.649255\n",
       "9      f'c(MPa) final_crack               0.067947               1.032182\n",
       "10     f'c(MPa) Pmax (N)Avg               0.188371               3.067131"
      ]
     },
     "execution_count": 103,
     "metadata": {},
     "output_type": "execute_result"
    }
   ],
   "source": [
    "lasso_reg_weights = get_weights_df(\n",
    "    lasso_reg, column, 'lasso_reg_Weight_ctod', 'lasso_reg_Weight_kisc')\n",
    "lasso_reg_weights\n"
   ]
  },
  {
   "cell_type": "code",
   "execution_count": 104,
   "metadata": {},
   "outputs": [
    {
     "name": "stdout",
     "output_type": "stream",
     "text": [
      "Number of parameters: 12\n",
      "AIC: -459.021\n"
     ]
    }
   ],
   "source": [
    "# from math import log\n",
    "def calculate_aic(n, mse, num_params):\n",
    "\taic = n * log(mse) + 2 * num_params\n",
    "\treturn aic\n",
    "\n",
    "\n",
    "num_params = len(lasso_reg.coef_[0]) + 1\n",
    "print('Number of parameters: %d' % (num_params))\n",
    "\n",
    "aic = calculate_aic(len(y), mse, num_params)\n",
    "print('AIC: %.3f' % aic)\n"
   ]
  }
 ],
 "metadata": {
  "kernelspec": {
   "display_name": "Python 3.10.4 64-bit",
   "language": "python",
   "name": "python3"
  },
  "language_info": {
   "codemirror_mode": {
    "name": "ipython",
    "version": 3
   },
   "file_extension": ".py",
   "mimetype": "text/x-python",
   "name": "python",
   "nbconvert_exporter": "python",
   "pygments_lexer": "ipython3",
   "version": "3.10.4"
  },
  "orig_nbformat": 4,
  "vscode": {
   "interpreter": {
    "hash": "bced385cd38f8369a88d3898e3e30fbea812f881ff58b064b949c770763d3f09"
   }
  }
 },
 "nbformat": 4,
 "nbformat_minor": 2
}
